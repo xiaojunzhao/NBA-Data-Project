{
 "cells": [
  {
   "cell_type": "code",
   "execution_count": 1,
   "metadata": {
    "collapsed": false
   },
   "outputs": [
    {
     "name": "stderr",
     "output_type": "stream",
     "text": [
      "c:\\python27\\lib\\site-packages\\matplotlib\\__init__.py:872: UserWarning: axes.color_cycle is deprecated and replaced with axes.prop_cycle; please use the latter.\n",
      "  warnings.warn(self.msg_depr % (key, alt_key))\n"
     ]
    }
   ],
   "source": [
    "import requests\n",
    "import pandas as pd\n",
    "import numpy as np\n",
    "\n",
    "import matplotlib.pyplot as plt\n",
    "import seaborn as sns\n",
    "\n",
    "from IPython.display import IFrame\n"
   ]
  },
  {
   "cell_type": "code",
   "execution_count": 2,
   "metadata": {
    "collapsed": true
   },
   "outputs": [],
   "source": [
    "sns.set_color_codes()\n",
    "sns.set_style(\"white\")"
   ]
  },
  {
   "cell_type": "markdown",
   "metadata": {},
   "source": [
    "The player that will be extracted is the game 6 of the Clippers-Rockets playoff series (an amazing comback for Houston Rockets). In the play,Dwight set a screen for Terry, and Terry passed the ball to Josh Smith for an open three. "
   ]
  },
  {
   "cell_type": "code",
   "execution_count": 3,
   "metadata": {
    "collapsed": false
   },
   "outputs": [
    {
     "data": {
      "text/html": [
       "\n",
       "        <iframe\n",
       "            width=\"700\"\n",
       "            height=\"400\"\n",
       "            src=\"http://stats.nba.com/movement/#!/?GameID=0041400236&GameEventID=534\"\n",
       "            frameborder=\"0\"\n",
       "            allowfullscreen\n",
       "        ></iframe>\n",
       "        "
      ],
      "text/plain": [
       "<IPython.lib.display.IFrame at 0xbd0e5c0>"
      ]
     },
     "execution_count": 3,
     "metadata": {},
     "output_type": "execute_result"
    }
   ],
   "source": [
    "IFrame('http://stats.nba.com/movement/#!/?GameID=0041400236&GameEventID=534',\n",
    "              width=700, height=400)"
   ]
  },
  {
   "cell_type": "code",
   "execution_count": 4,
   "metadata": {
    "collapsed": true
   },
   "outputs": [],
   "source": [
    "url = \"http://stats.nba.com/stats/locations_getmoments/?eventid=534&gameid=0041400236\""
   ]
  },
  {
   "cell_type": "code",
   "execution_count": 5,
   "metadata": {
    "collapsed": false
   },
   "outputs": [
    {
     "data": {
      "text/plain": [
       "[u'moments', u'visitor', u'gamedate', u'gameid', u'home']"
      ]
     },
     "execution_count": 5,
     "metadata": {},
     "output_type": "execute_result"
    }
   ],
   "source": [
    "# Get the webpage\n",
    "response = requests.get(url)\n",
    "response.json().keys()"
   ]
  },
  {
   "cell_type": "code",
   "execution_count": 6,
   "metadata": {
    "collapsed": true
   },
   "outputs": [],
   "source": [
    "home = response.json()[\"home\"]\n",
    "visitor = response.json()[\"visitor\"]\n",
    "moments = response.json()[\"moments\"]"
   ]
  },
  {
   "cell_type": "code",
   "execution_count": 7,
   "metadata": {
    "collapsed": false
   },
   "outputs": [
    {
     "data": {
      "text/plain": [
       "{u'abbreviation': u'HOU',\n",
       " u'name': u'Houston Rockets',\n",
       " u'players': [{u'firstname': u'Jason',\n",
       "   u'jersey': u'31',\n",
       "   u'lastname': u'Terry',\n",
       "   u'playerid': 1891,\n",
       "   u'position': u'G'},\n",
       "  {u'firstname': u'Dwight',\n",
       "   u'jersey': u'12',\n",
       "   u'lastname': u'Howard',\n",
       "   u'playerid': 2730,\n",
       "   u'position': u'C'},\n",
       "  {u'firstname': u'Josh',\n",
       "   u'jersey': u'5',\n",
       "   u'lastname': u'Smith',\n",
       "   u'playerid': 2746,\n",
       "   u'position': u'F'},\n",
       "  {u'firstname': u'Trevor',\n",
       "   u'jersey': u'1',\n",
       "   u'lastname': u'Ariza',\n",
       "   u'playerid': 2772,\n",
       "   u'position': u'F'},\n",
       "  {u'firstname': u'Corey',\n",
       "   u'jersey': u'33',\n",
       "   u'lastname': u'Brewer',\n",
       "   u'playerid': 201147,\n",
       "   u'position': u'G-F'},\n",
       "  {u'firstname': u'Joey',\n",
       "   u'jersey': u'8',\n",
       "   u'lastname': u'Dorsey',\n",
       "   u'playerid': 201595,\n",
       "   u'position': u'C-F'},\n",
       "  {u'firstname': u'James',\n",
       "   u'jersey': u'13',\n",
       "   u'lastname': u'Harden',\n",
       "   u'playerid': 201935,\n",
       "   u'position': u'G'},\n",
       "  {u'firstname': u'Terrence',\n",
       "   u'jersey': u'6',\n",
       "   u'lastname': u'Jones',\n",
       "   u'playerid': 203093,\n",
       "   u'position': u'F'},\n",
       "  {u'firstname': u'Kostas',\n",
       "   u'jersey': u'16',\n",
       "   u'lastname': u'Papanikolaou',\n",
       "   u'playerid': 203123,\n",
       "   u'position': u'F'},\n",
       "  {u'firstname': u'Pablo',\n",
       "   u'jersey': u'9',\n",
       "   u'lastname': u'Prigioni',\n",
       "   u'playerid': 203143,\n",
       "   u'position': u'G'},\n",
       "  {u'firstname': u'KJ',\n",
       "   u'jersey': u'32',\n",
       "   u'lastname': u'McDaniels',\n",
       "   u'playerid': 203909,\n",
       "   u'position': u'G-F'},\n",
       "  {u'firstname': u'Nick',\n",
       "   u'jersey': u'3',\n",
       "   u'lastname': u'Johnson',\n",
       "   u'playerid': 203910,\n",
       "   u'position': u'G'},\n",
       "  {u'firstname': u'Clint',\n",
       "   u'jersey': u'15',\n",
       "   u'lastname': u'Capela',\n",
       "   u'playerid': 203991,\n",
       "   u'position': u'C'}],\n",
       " u'teamid': 1610612745}"
      ]
     },
     "execution_count": 7,
     "metadata": {},
     "output_type": "execute_result"
    }
   ],
   "source": [
    "visitor"
   ]
  },
  {
   "cell_type": "code",
   "execution_count": 8,
   "metadata": {
    "collapsed": false
   },
   "outputs": [
    {
     "data": {
      "text/plain": [
       "{u'abbreviation': u'LAC',\n",
       " u'name': u'Los Angeles Clippers',\n",
       " u'players': [{u'firstname': u'Jamal',\n",
       "   u'jersey': u'11',\n",
       "   u'lastname': u'Crawford',\n",
       "   u'playerid': 2037,\n",
       "   u'position': u'G'},\n",
       "  {u'firstname': u'Hedo',\n",
       "   u'jersey': u'15',\n",
       "   u'lastname': u'Turkoglu',\n",
       "   u'playerid': 2045,\n",
       "   u'position': u'F'},\n",
       "  {u'firstname': u'Matt',\n",
       "   u'jersey': u'22',\n",
       "   u'lastname': u'Barnes',\n",
       "   u'playerid': 2440,\n",
       "   u'position': u'F'},\n",
       "  {u'firstname': u'Dahntay',\n",
       "   u'jersey': u'31',\n",
       "   u'lastname': u'Jones',\n",
       "   u'playerid': 2563,\n",
       "   u'position': u'G-F'},\n",
       "  {u'firstname': u'Chris',\n",
       "   u'jersey': u'3',\n",
       "   u'lastname': u'Paul',\n",
       "   u'playerid': 101108,\n",
       "   u'position': u'G'},\n",
       "  {u'firstname': u'JJ',\n",
       "   u'jersey': u'4',\n",
       "   u'lastname': u'Redick',\n",
       "   u'playerid': 200755,\n",
       "   u'position': u'G'},\n",
       "  {u'firstname': u'Spencer',\n",
       "   u'jersey': u'10',\n",
       "   u'lastname': u'Hawes',\n",
       "   u'playerid': 201150,\n",
       "   u'position': u'F-C'},\n",
       "  {u'firstname': u'Glen',\n",
       "   u'jersey': u'0',\n",
       "   u'lastname': u'Davis',\n",
       "   u'playerid': 201175,\n",
       "   u'position': u'F-C'},\n",
       "  {u'firstname': u'DeAndre',\n",
       "   u'jersey': u'6',\n",
       "   u'lastname': u'Jordan',\n",
       "   u'playerid': 201599,\n",
       "   u'position': u'C'},\n",
       "  {u'firstname': u'Blake',\n",
       "   u'jersey': u'32',\n",
       "   u'lastname': u'Griffin',\n",
       "   u'playerid': 201933,\n",
       "   u'position': u'F'},\n",
       "  {u'firstname': u'Lester',\n",
       "   u'jersey': u'14',\n",
       "   u'lastname': u'Hudson',\n",
       "   u'playerid': 201991,\n",
       "   u'position': u'G'},\n",
       "  {u'firstname': u'Ekpe',\n",
       "   u'jersey': u'13',\n",
       "   u'lastname': u'Udoh',\n",
       "   u'playerid': 202327,\n",
       "   u'position': u'F'},\n",
       "  {u'firstname': u'Austin',\n",
       "   u'jersey': u'25',\n",
       "   u'lastname': u'Rivers',\n",
       "   u'playerid': 203085,\n",
       "   u'position': u'G'}],\n",
       " u'teamid': 1610612746}"
      ]
     },
     "execution_count": 8,
     "metadata": {},
     "output_type": "execute_result"
    }
   ],
   "source": [
    "home"
   ]
  },
  {
   "cell_type": "code",
   "execution_count": 9,
   "metadata": {
    "collapsed": false
   },
   "outputs": [
    {
     "data": {
      "text/plain": [
       "700"
      ]
     },
     "execution_count": 9,
     "metadata": {},
     "output_type": "execute_result"
    }
   ],
   "source": [
    "#check the length (700 items that compose the animation above)\n",
    "len(moments)"
   ]
  },
  {
   "cell_type": "markdown",
   "metadata": {},
   "source": [
    "Now, let's look at what information does the moments contain. \n",
    "1. The first item is the quarter that this moment occurred in. \n",
    "2. Not sure about the second item. \n",
    "3. The 3rd item is the time left in the game clock. \n",
    "4. The 4th item is the time left on the shot clock. \n",
    "5. Not sure about the 5th item\n",
    "6. This item contains a list of 11 lists. The first list contains the information of the ball. The rest of the 10 lists contains information of 10 players on the court. "
   ]
  },
  {
   "cell_type": "code",
   "execution_count": 10,
   "metadata": {
    "collapsed": false
   },
   "outputs": [
    {
     "data": {
      "text/plain": [
       "[4,\n",
       " 1431665961011L,\n",
       " 401.02,\n",
       " 20.49,\n",
       " None,\n",
       " [[-1, -1, 45.47706, 44.66605, 0.71701],\n",
       "  [1610612746, 2440, 21.98947, 43.96255, 0.0],\n",
       "  [1610612746, 200755, 17.03849, 7.19367, 0.0],\n",
       "  [1610612746, 101108, 33.79907, 37.40691, 0.0],\n",
       "  [1610612746, 201599, 24.7402, 29.80876, 0.0],\n",
       "  [1610612746, 201933, 29.98772, 23.55346, 0.0],\n",
       "  [1610612745, 1891, 46.79906, 46.21247, 0.0],\n",
       "  [1610612745, 2772, 22.30123, 0.9746, 0.0],\n",
       "  [1610612745, 2730, 52.72143, 28.74668, 0.0],\n",
       "  [1610612745, 2746, 58.29529, 21.30605, 0.0],\n",
       "  [1610612745, 201147, 25.49182, 48.82225, 0.0]]]"
      ]
     },
     "execution_count": 10,
     "metadata": {},
     "output_type": "execute_result"
    }
   ],
   "source": [
    "moments[0]"
   ]
  },
  {
   "cell_type": "code",
   "execution_count": 11,
   "metadata": {
    "collapsed": true
   },
   "outputs": [],
   "source": [
    "# Column labels\n",
    "headers = ['team_id','player_id','x_loc','y_loc','radius','moment','game_clock','shot_clock']"
   ]
  },
  {
   "cell_type": "code",
   "execution_count": 12,
   "metadata": {
    "collapsed": false
   },
   "outputs": [],
   "source": [
    "player_moments = []\n",
    "for moment in moments:\n",
    "    for player in moment[5]:\n",
    "        player.extend((moments.index(moment),moment[2],moment[3]))\n",
    "        player_moments.append(player)"
   ]
  },
  {
   "cell_type": "code",
   "execution_count": 13,
   "metadata": {
    "collapsed": false
   },
   "outputs": [
    {
     "data": {
      "text/html": [
       "<div>\n",
       "<table border=\"1\" class=\"dataframe\">\n",
       "  <thead>\n",
       "    <tr style=\"text-align: right;\">\n",
       "      <th></th>\n",
       "      <th>team_id</th>\n",
       "      <th>player_id</th>\n",
       "      <th>x_loc</th>\n",
       "      <th>y_loc</th>\n",
       "      <th>radius</th>\n",
       "      <th>moment</th>\n",
       "      <th>game_clock</th>\n",
       "      <th>shot_clock</th>\n",
       "    </tr>\n",
       "  </thead>\n",
       "  <tbody>\n",
       "    <tr>\n",
       "      <th>0</th>\n",
       "      <td>-1</td>\n",
       "      <td>-1</td>\n",
       "      <td>45.47706</td>\n",
       "      <td>44.66605</td>\n",
       "      <td>0.71701</td>\n",
       "      <td>0</td>\n",
       "      <td>401.02</td>\n",
       "      <td>20.49</td>\n",
       "    </tr>\n",
       "    <tr>\n",
       "      <th>1</th>\n",
       "      <td>1610612746</td>\n",
       "      <td>2440</td>\n",
       "      <td>21.98947</td>\n",
       "      <td>43.96255</td>\n",
       "      <td>0.00000</td>\n",
       "      <td>0</td>\n",
       "      <td>401.02</td>\n",
       "      <td>20.49</td>\n",
       "    </tr>\n",
       "    <tr>\n",
       "      <th>2</th>\n",
       "      <td>1610612746</td>\n",
       "      <td>200755</td>\n",
       "      <td>17.03849</td>\n",
       "      <td>7.19367</td>\n",
       "      <td>0.00000</td>\n",
       "      <td>0</td>\n",
       "      <td>401.02</td>\n",
       "      <td>20.49</td>\n",
       "    </tr>\n",
       "    <tr>\n",
       "      <th>3</th>\n",
       "      <td>1610612746</td>\n",
       "      <td>101108</td>\n",
       "      <td>33.79907</td>\n",
       "      <td>37.40691</td>\n",
       "      <td>0.00000</td>\n",
       "      <td>0</td>\n",
       "      <td>401.02</td>\n",
       "      <td>20.49</td>\n",
       "    </tr>\n",
       "    <tr>\n",
       "      <th>4</th>\n",
       "      <td>1610612746</td>\n",
       "      <td>201599</td>\n",
       "      <td>24.74020</td>\n",
       "      <td>29.80876</td>\n",
       "      <td>0.00000</td>\n",
       "      <td>0</td>\n",
       "      <td>401.02</td>\n",
       "      <td>20.49</td>\n",
       "    </tr>\n",
       "    <tr>\n",
       "      <th>5</th>\n",
       "      <td>1610612746</td>\n",
       "      <td>201933</td>\n",
       "      <td>29.98772</td>\n",
       "      <td>23.55346</td>\n",
       "      <td>0.00000</td>\n",
       "      <td>0</td>\n",
       "      <td>401.02</td>\n",
       "      <td>20.49</td>\n",
       "    </tr>\n",
       "    <tr>\n",
       "      <th>6</th>\n",
       "      <td>1610612745</td>\n",
       "      <td>1891</td>\n",
       "      <td>46.79906</td>\n",
       "      <td>46.21247</td>\n",
       "      <td>0.00000</td>\n",
       "      <td>0</td>\n",
       "      <td>401.02</td>\n",
       "      <td>20.49</td>\n",
       "    </tr>\n",
       "    <tr>\n",
       "      <th>7</th>\n",
       "      <td>1610612745</td>\n",
       "      <td>2772</td>\n",
       "      <td>22.30123</td>\n",
       "      <td>0.97460</td>\n",
       "      <td>0.00000</td>\n",
       "      <td>0</td>\n",
       "      <td>401.02</td>\n",
       "      <td>20.49</td>\n",
       "    </tr>\n",
       "    <tr>\n",
       "      <th>8</th>\n",
       "      <td>1610612745</td>\n",
       "      <td>2730</td>\n",
       "      <td>52.72143</td>\n",
       "      <td>28.74668</td>\n",
       "      <td>0.00000</td>\n",
       "      <td>0</td>\n",
       "      <td>401.02</td>\n",
       "      <td>20.49</td>\n",
       "    </tr>\n",
       "    <tr>\n",
       "      <th>9</th>\n",
       "      <td>1610612745</td>\n",
       "      <td>2746</td>\n",
       "      <td>58.29529</td>\n",
       "      <td>21.30605</td>\n",
       "      <td>0.00000</td>\n",
       "      <td>0</td>\n",
       "      <td>401.02</td>\n",
       "      <td>20.49</td>\n",
       "    </tr>\n",
       "    <tr>\n",
       "      <th>10</th>\n",
       "      <td>1610612745</td>\n",
       "      <td>201147</td>\n",
       "      <td>25.49182</td>\n",
       "      <td>48.82225</td>\n",
       "      <td>0.00000</td>\n",
       "      <td>0</td>\n",
       "      <td>401.02</td>\n",
       "      <td>20.49</td>\n",
       "    </tr>\n",
       "  </tbody>\n",
       "</table>\n",
       "</div>"
      ],
      "text/plain": [
       "       team_id  player_id     x_loc     y_loc   radius  moment  game_clock  \\\n",
       "0           -1         -1  45.47706  44.66605  0.71701       0      401.02   \n",
       "1   1610612746       2440  21.98947  43.96255  0.00000       0      401.02   \n",
       "2   1610612746     200755  17.03849   7.19367  0.00000       0      401.02   \n",
       "3   1610612746     101108  33.79907  37.40691  0.00000       0      401.02   \n",
       "4   1610612746     201599  24.74020  29.80876  0.00000       0      401.02   \n",
       "5   1610612746     201933  29.98772  23.55346  0.00000       0      401.02   \n",
       "6   1610612745       1891  46.79906  46.21247  0.00000       0      401.02   \n",
       "7   1610612745       2772  22.30123   0.97460  0.00000       0      401.02   \n",
       "8   1610612745       2730  52.72143  28.74668  0.00000       0      401.02   \n",
       "9   1610612745       2746  58.29529  21.30605  0.00000       0      401.02   \n",
       "10  1610612745     201147  25.49182  48.82225  0.00000       0      401.02   \n",
       "\n",
       "    shot_clock  \n",
       "0        20.49  \n",
       "1        20.49  \n",
       "2        20.49  \n",
       "3        20.49  \n",
       "4        20.49  \n",
       "5        20.49  \n",
       "6        20.49  \n",
       "7        20.49  \n",
       "8        20.49  \n",
       "9        20.49  \n",
       "10       20.49  "
      ]
     },
     "execution_count": 13,
     "metadata": {},
     "output_type": "execute_result"
    }
   ],
   "source": [
    "player_moments[0:11]\n",
    "df = pd.DataFrame(player_moments,columns=headers)\n",
    "df.head(11)"
   ]
  },
  {
   "cell_type": "code",
   "execution_count": 14,
   "metadata": {
    "collapsed": false
   },
   "outputs": [
    {
     "data": {
      "text/plain": [
       "[{u'firstname': u'Jason',\n",
       "  u'jersey': u'31',\n",
       "  u'lastname': u'Terry',\n",
       "  u'playerid': 1891,\n",
       "  u'position': u'G'},\n",
       " {u'firstname': u'Dwight',\n",
       "  u'jersey': u'12',\n",
       "  u'lastname': u'Howard',\n",
       "  u'playerid': 2730,\n",
       "  u'position': u'C'},\n",
       " {u'firstname': u'Josh',\n",
       "  u'jersey': u'5',\n",
       "  u'lastname': u'Smith',\n",
       "  u'playerid': 2746,\n",
       "  u'position': u'F'},\n",
       " {u'firstname': u'Trevor',\n",
       "  u'jersey': u'1',\n",
       "  u'lastname': u'Ariza',\n",
       "  u'playerid': 2772,\n",
       "  u'position': u'F'},\n",
       " {u'firstname': u'Corey',\n",
       "  u'jersey': u'33',\n",
       "  u'lastname': u'Brewer',\n",
       "  u'playerid': 201147,\n",
       "  u'position': u'G-F'},\n",
       " {u'firstname': u'Joey',\n",
       "  u'jersey': u'8',\n",
       "  u'lastname': u'Dorsey',\n",
       "  u'playerid': 201595,\n",
       "  u'position': u'C-F'},\n",
       " {u'firstname': u'James',\n",
       "  u'jersey': u'13',\n",
       "  u'lastname': u'Harden',\n",
       "  u'playerid': 201935,\n",
       "  u'position': u'G'},\n",
       " {u'firstname': u'Terrence',\n",
       "  u'jersey': u'6',\n",
       "  u'lastname': u'Jones',\n",
       "  u'playerid': 203093,\n",
       "  u'position': u'F'},\n",
       " {u'firstname': u'Kostas',\n",
       "  u'jersey': u'16',\n",
       "  u'lastname': u'Papanikolaou',\n",
       "  u'playerid': 203123,\n",
       "  u'position': u'F'},\n",
       " {u'firstname': u'Pablo',\n",
       "  u'jersey': u'9',\n",
       "  u'lastname': u'Prigioni',\n",
       "  u'playerid': 203143,\n",
       "  u'position': u'G'},\n",
       " {u'firstname': u'KJ',\n",
       "  u'jersey': u'32',\n",
       "  u'lastname': u'McDaniels',\n",
       "  u'playerid': 203909,\n",
       "  u'position': u'G-F'},\n",
       " {u'firstname': u'Nick',\n",
       "  u'jersey': u'3',\n",
       "  u'lastname': u'Johnson',\n",
       "  u'playerid': 203910,\n",
       "  u'position': u'G'},\n",
       " {u'firstname': u'Clint',\n",
       "  u'jersey': u'15',\n",
       "  u'lastname': u'Capela',\n",
       "  u'playerid': 203991,\n",
       "  u'position': u'C'},\n",
       " {u'firstname': u'Jamal',\n",
       "  u'jersey': u'11',\n",
       "  u'lastname': u'Crawford',\n",
       "  u'playerid': 2037,\n",
       "  u'position': u'G'},\n",
       " {u'firstname': u'Hedo',\n",
       "  u'jersey': u'15',\n",
       "  u'lastname': u'Turkoglu',\n",
       "  u'playerid': 2045,\n",
       "  u'position': u'F'},\n",
       " {u'firstname': u'Matt',\n",
       "  u'jersey': u'22',\n",
       "  u'lastname': u'Barnes',\n",
       "  u'playerid': 2440,\n",
       "  u'position': u'F'},\n",
       " {u'firstname': u'Dahntay',\n",
       "  u'jersey': u'31',\n",
       "  u'lastname': u'Jones',\n",
       "  u'playerid': 2563,\n",
       "  u'position': u'G-F'},\n",
       " {u'firstname': u'Chris',\n",
       "  u'jersey': u'3',\n",
       "  u'lastname': u'Paul',\n",
       "  u'playerid': 101108,\n",
       "  u'position': u'G'},\n",
       " {u'firstname': u'JJ',\n",
       "  u'jersey': u'4',\n",
       "  u'lastname': u'Redick',\n",
       "  u'playerid': 200755,\n",
       "  u'position': u'G'},\n",
       " {u'firstname': u'Spencer',\n",
       "  u'jersey': u'10',\n",
       "  u'lastname': u'Hawes',\n",
       "  u'playerid': 201150,\n",
       "  u'position': u'F-C'},\n",
       " {u'firstname': u'Glen',\n",
       "  u'jersey': u'0',\n",
       "  u'lastname': u'Davis',\n",
       "  u'playerid': 201175,\n",
       "  u'position': u'F-C'},\n",
       " {u'firstname': u'DeAndre',\n",
       "  u'jersey': u'6',\n",
       "  u'lastname': u'Jordan',\n",
       "  u'playerid': 201599,\n",
       "  u'position': u'C'},\n",
       " {u'firstname': u'Blake',\n",
       "  u'jersey': u'32',\n",
       "  u'lastname': u'Griffin',\n",
       "  u'playerid': 201933,\n",
       "  u'position': u'F'},\n",
       " {u'firstname': u'Lester',\n",
       "  u'jersey': u'14',\n",
       "  u'lastname': u'Hudson',\n",
       "  u'playerid': 201991,\n",
       "  u'position': u'G'},\n",
       " {u'firstname': u'Ekpe',\n",
       "  u'jersey': u'13',\n",
       "  u'lastname': u'Udoh',\n",
       "  u'playerid': 202327,\n",
       "  u'position': u'F'},\n",
       " {u'firstname': u'Austin',\n",
       "  u'jersey': u'25',\n",
       "  u'lastname': u'Rivers',\n",
       "  u'playerid': 203085,\n",
       "  u'position': u'G'}]"
      ]
     },
     "execution_count": 14,
     "metadata": {},
     "output_type": "execute_result"
    }
   ],
   "source": [
    "players=[]\n",
    "players = visitor[\"players\"]\n",
    "players.extend(home[\"players\"])\n",
    "players"
   ]
  },
  {
   "cell_type": "code",
   "execution_count": 15,
   "metadata": {
    "collapsed": false
   },
   "outputs": [],
   "source": [
    "id_dict={}\n",
    "for player in players:\n",
    "    id_dict[player['playerid']] = [player[\"firstname\"]+\" \"+player[\"lastname\"],\n",
    "                                   player[\"jersey\"]]\n"
   ]
  },
  {
   "cell_type": "code",
   "execution_count": 16,
   "metadata": {
    "collapsed": false
   },
   "outputs": [
    {
     "data": {
      "text/plain": [
       "{1891: [u'Jason Terry', u'31'],\n",
       " 2037: [u'Jamal Crawford', u'11'],\n",
       " 2045: [u'Hedo Turkoglu', u'15'],\n",
       " 2440: [u'Matt Barnes', u'22'],\n",
       " 2563: [u'Dahntay Jones', u'31'],\n",
       " 2730: [u'Dwight Howard', u'12'],\n",
       " 2746: [u'Josh Smith', u'5'],\n",
       " 2772: [u'Trevor Ariza', u'1'],\n",
       " 101108: [u'Chris Paul', u'3'],\n",
       " 200755: [u'JJ Redick', u'4'],\n",
       " 201147: [u'Corey Brewer', u'33'],\n",
       " 201150: [u'Spencer Hawes', u'10'],\n",
       " 201175: [u'Glen Davis', u'0'],\n",
       " 201595: [u'Joey Dorsey', u'8'],\n",
       " 201599: [u'DeAndre Jordan', u'6'],\n",
       " 201933: [u'Blake Griffin', u'32'],\n",
       " 201935: [u'James Harden', u'13'],\n",
       " 201991: [u'Lester Hudson', u'14'],\n",
       " 202327: [u'Ekpe Udoh', u'13'],\n",
       " 203085: [u'Austin Rivers', u'25'],\n",
       " 203093: [u'Terrence Jones', u'6'],\n",
       " 203123: [u'Kostas Papanikolaou', u'16'],\n",
       " 203143: [u'Pablo Prigioni', u'9'],\n",
       " 203909: [u'KJ McDaniels', u'32'],\n",
       " 203910: [u'Nick Johnson', u'3'],\n",
       " 203991: [u'Clint Capela', u'15']}"
      ]
     },
     "execution_count": 16,
     "metadata": {},
     "output_type": "execute_result"
    }
   ],
   "source": [
    "id_dict"
   ]
  },
  {
   "cell_type": "code",
   "execution_count": 17,
   "metadata": {
    "collapsed": true
   },
   "outputs": [],
   "source": [
    "id_dict.update({-1:['ball',np.nan]})"
   ]
  },
  {
   "cell_type": "code",
   "execution_count": null,
   "metadata": {
    "collapsed": false
   },
   "outputs": [],
   "source": [
    "#df.player_id"
   ]
  },
  {
   "cell_type": "code",
   "execution_count": 18,
   "metadata": {
    "collapsed": false
   },
   "outputs": [
    {
     "data": {
      "text/html": [
       "<div>\n",
       "<table border=\"1\" class=\"dataframe\">\n",
       "  <thead>\n",
       "    <tr style=\"text-align: right;\">\n",
       "      <th></th>\n",
       "      <th>team_id</th>\n",
       "      <th>player_id</th>\n",
       "      <th>x_loc</th>\n",
       "      <th>y_loc</th>\n",
       "      <th>radius</th>\n",
       "      <th>moment</th>\n",
       "      <th>game_clock</th>\n",
       "      <th>shot_clock</th>\n",
       "      <th>player_name</th>\n",
       "      <th>player_jersey</th>\n",
       "    </tr>\n",
       "  </thead>\n",
       "  <tbody>\n",
       "    <tr>\n",
       "      <th>0</th>\n",
       "      <td>-1</td>\n",
       "      <td>-1</td>\n",
       "      <td>45.47706</td>\n",
       "      <td>44.66605</td>\n",
       "      <td>0.71701</td>\n",
       "      <td>0</td>\n",
       "      <td>401.02</td>\n",
       "      <td>20.49</td>\n",
       "      <td>ball</td>\n",
       "      <td>NaN</td>\n",
       "    </tr>\n",
       "    <tr>\n",
       "      <th>1</th>\n",
       "      <td>1610612746</td>\n",
       "      <td>2440</td>\n",
       "      <td>21.98947</td>\n",
       "      <td>43.96255</td>\n",
       "      <td>0.00000</td>\n",
       "      <td>0</td>\n",
       "      <td>401.02</td>\n",
       "      <td>20.49</td>\n",
       "      <td>Matt Barnes</td>\n",
       "      <td>22</td>\n",
       "    </tr>\n",
       "    <tr>\n",
       "      <th>2</th>\n",
       "      <td>1610612746</td>\n",
       "      <td>200755</td>\n",
       "      <td>17.03849</td>\n",
       "      <td>7.19367</td>\n",
       "      <td>0.00000</td>\n",
       "      <td>0</td>\n",
       "      <td>401.02</td>\n",
       "      <td>20.49</td>\n",
       "      <td>JJ Redick</td>\n",
       "      <td>4</td>\n",
       "    </tr>\n",
       "    <tr>\n",
       "      <th>3</th>\n",
       "      <td>1610612746</td>\n",
       "      <td>101108</td>\n",
       "      <td>33.79907</td>\n",
       "      <td>37.40691</td>\n",
       "      <td>0.00000</td>\n",
       "      <td>0</td>\n",
       "      <td>401.02</td>\n",
       "      <td>20.49</td>\n",
       "      <td>Chris Paul</td>\n",
       "      <td>3</td>\n",
       "    </tr>\n",
       "    <tr>\n",
       "      <th>4</th>\n",
       "      <td>1610612746</td>\n",
       "      <td>201599</td>\n",
       "      <td>24.74020</td>\n",
       "      <td>29.80876</td>\n",
       "      <td>0.00000</td>\n",
       "      <td>0</td>\n",
       "      <td>401.02</td>\n",
       "      <td>20.49</td>\n",
       "      <td>DeAndre Jordan</td>\n",
       "      <td>6</td>\n",
       "    </tr>\n",
       "    <tr>\n",
       "      <th>5</th>\n",
       "      <td>1610612746</td>\n",
       "      <td>201933</td>\n",
       "      <td>29.98772</td>\n",
       "      <td>23.55346</td>\n",
       "      <td>0.00000</td>\n",
       "      <td>0</td>\n",
       "      <td>401.02</td>\n",
       "      <td>20.49</td>\n",
       "      <td>Blake Griffin</td>\n",
       "      <td>32</td>\n",
       "    </tr>\n",
       "    <tr>\n",
       "      <th>6</th>\n",
       "      <td>1610612745</td>\n",
       "      <td>1891</td>\n",
       "      <td>46.79906</td>\n",
       "      <td>46.21247</td>\n",
       "      <td>0.00000</td>\n",
       "      <td>0</td>\n",
       "      <td>401.02</td>\n",
       "      <td>20.49</td>\n",
       "      <td>Jason Terry</td>\n",
       "      <td>31</td>\n",
       "    </tr>\n",
       "    <tr>\n",
       "      <th>7</th>\n",
       "      <td>1610612745</td>\n",
       "      <td>2772</td>\n",
       "      <td>22.30123</td>\n",
       "      <td>0.97460</td>\n",
       "      <td>0.00000</td>\n",
       "      <td>0</td>\n",
       "      <td>401.02</td>\n",
       "      <td>20.49</td>\n",
       "      <td>Trevor Ariza</td>\n",
       "      <td>1</td>\n",
       "    </tr>\n",
       "    <tr>\n",
       "      <th>8</th>\n",
       "      <td>1610612745</td>\n",
       "      <td>2730</td>\n",
       "      <td>52.72143</td>\n",
       "      <td>28.74668</td>\n",
       "      <td>0.00000</td>\n",
       "      <td>0</td>\n",
       "      <td>401.02</td>\n",
       "      <td>20.49</td>\n",
       "      <td>Dwight Howard</td>\n",
       "      <td>12</td>\n",
       "    </tr>\n",
       "    <tr>\n",
       "      <th>9</th>\n",
       "      <td>1610612745</td>\n",
       "      <td>2746</td>\n",
       "      <td>58.29529</td>\n",
       "      <td>21.30605</td>\n",
       "      <td>0.00000</td>\n",
       "      <td>0</td>\n",
       "      <td>401.02</td>\n",
       "      <td>20.49</td>\n",
       "      <td>Josh Smith</td>\n",
       "      <td>5</td>\n",
       "    </tr>\n",
       "    <tr>\n",
       "      <th>10</th>\n",
       "      <td>1610612745</td>\n",
       "      <td>201147</td>\n",
       "      <td>25.49182</td>\n",
       "      <td>48.82225</td>\n",
       "      <td>0.00000</td>\n",
       "      <td>0</td>\n",
       "      <td>401.02</td>\n",
       "      <td>20.49</td>\n",
       "      <td>Corey Brewer</td>\n",
       "      <td>33</td>\n",
       "    </tr>\n",
       "  </tbody>\n",
       "</table>\n",
       "</div>"
      ],
      "text/plain": [
       "       team_id  player_id     x_loc     y_loc   radius  moment  game_clock  \\\n",
       "0           -1         -1  45.47706  44.66605  0.71701       0      401.02   \n",
       "1   1610612746       2440  21.98947  43.96255  0.00000       0      401.02   \n",
       "2   1610612746     200755  17.03849   7.19367  0.00000       0      401.02   \n",
       "3   1610612746     101108  33.79907  37.40691  0.00000       0      401.02   \n",
       "4   1610612746     201599  24.74020  29.80876  0.00000       0      401.02   \n",
       "5   1610612746     201933  29.98772  23.55346  0.00000       0      401.02   \n",
       "6   1610612745       1891  46.79906  46.21247  0.00000       0      401.02   \n",
       "7   1610612745       2772  22.30123   0.97460  0.00000       0      401.02   \n",
       "8   1610612745       2730  52.72143  28.74668  0.00000       0      401.02   \n",
       "9   1610612745       2746  58.29529  21.30605  0.00000       0      401.02   \n",
       "10  1610612745     201147  25.49182  48.82225  0.00000       0      401.02   \n",
       "\n",
       "    shot_clock     player_name player_jersey  \n",
       "0        20.49            ball           NaN  \n",
       "1        20.49     Matt Barnes            22  \n",
       "2        20.49       JJ Redick             4  \n",
       "3        20.49      Chris Paul             3  \n",
       "4        20.49  DeAndre Jordan             6  \n",
       "5        20.49   Blake Griffin            32  \n",
       "6        20.49     Jason Terry            31  \n",
       "7        20.49    Trevor Ariza             1  \n",
       "8        20.49   Dwight Howard            12  \n",
       "9        20.49      Josh Smith             5  \n",
       "10       20.49    Corey Brewer            33  "
      ]
     },
     "execution_count": 18,
     "metadata": {},
     "output_type": "execute_result"
    }
   ],
   "source": [
    "df[\"player_name\"] = df.player_id.map(lambda x: id_dict[x][0])\n",
    "df[\"player_jersey\"] = df.player_id.map(lambda x:id_dict[x][1])\n",
    "df.head(11)"
   ]
  },
  {
   "cell_type": "markdown",
   "metadata": {},
   "source": [
    "## Plotting the Movements"
   ]
  },
  {
   "cell_type": "code",
   "execution_count": 19,
   "metadata": {
    "collapsed": false
   },
   "outputs": [],
   "source": [
    "# get Dwight's movements\n",
    "dh = df[df.player_name==\"Dwight Howard\"]\n",
    "# read in the court png file\n",
    "court = plt.imread(\"fullcourt.png\")\n",
    "plt.figure(figsize=(15, 11.5))\n",
    "\n",
    "# Plot the movemnts as scatter plot\n",
    "# using a colormap to show change in game clock\n",
    "plt.scatter(dh.x_loc, dh.y_loc, c=dh.game_clock,\n",
    "            cmap=plt.cm.Blues, s=1000, zorder=1)\n",
    "jt = df[df.player_name==\"Jason Terry\"]\n",
    "plt.scatter(jt.x_loc, jt.y_loc, c=jt.game_clock,\n",
    "            cmap=plt.cm.Reds, s=1000, zorder=1)\n",
    "\n",
    "# Darker colors represent moments earlier on in the game\n",
    "cbar = plt.colorbar(orientation=\"horizontal\")\n",
    "cbar.ax.invert_xaxis()\n",
    "\n",
    "#The original x=0,y=0 represents the top left corner\n",
    "plt.imshow(court, zorder=0, extent=[0,94,50,0])\n",
    "\n",
    "plt.xlim(0,101)\n",
    "\n",
    "plt.show()"
   ]
  },
  {
   "cell_type": "markdown",
   "metadata": {
    "collapsed": true
   },
   "source": [
    "## Traveled Distance Calculation"
   ]
  },
  {
   "cell_type": "code",
   "execution_count": 20,
   "metadata": {
    "collapsed": false
   },
   "outputs": [],
   "source": [
    "#df[df.player_name==\"Dwight Howard\"]"
   ]
  },
  {
   "cell_type": "code",
   "execution_count": 21,
   "metadata": {
    "collapsed": false
   },
   "outputs": [
    {
     "data": {
      "text/plain": [
       "197.39052411683639"
      ]
     },
     "execution_count": 21,
     "metadata": {},
     "output_type": "execute_result"
    }
   ],
   "source": [
    "def travel_dist(player_locations):\n",
    "    # get the differences for each column\n",
    "    diff = np.diff(player_locations, axis=0)\n",
    "    dist = np.sqrt((diff ** 2).sum(axis=1))\n",
    "    # Then return the sum of all the distances\n",
    "    return dist.sum()\n",
    "\n",
    "dist = travel_dist(dh[['x_loc','y_loc']])\n",
    "dist"
   ]
  },
  {
   "cell_type": "code",
   "execution_count": 22,
   "metadata": {
    "collapsed": false
   },
   "outputs": [
    {
     "data": {
      "text/plain": [
       "player_name\n",
       "Blake Griffin     124.776708\n",
       "Chris Paul        155.088187\n",
       "Corey Brewer      149.936492\n",
       "DeAndre Jordan    155.546752\n",
       "Dwight Howard     197.390524\n",
       "JJ Redick         194.552985\n",
       "Jason Terry       170.436101\n",
       "Josh Smith        157.699968\n",
       "Matt Barnes       150.321116\n",
       "Trevor Ariza      169.289797\n",
       "ball              323.314884\n",
       "dtype: float64"
      ]
     },
     "execution_count": 22,
     "metadata": {},
     "output_type": "execute_result"
    }
   ],
   "source": [
    "player_travel_dist = df.groupby('player_name')[['x_loc', 'y_loc']].apply(travel_dist)\n",
    "player_travel_dist"
   ]
  },
  {
   "cell_type": "markdown",
   "metadata": {},
   "source": [
    "## Average Speed Caculation"
   ]
  },
  {
   "cell_type": "code",
   "execution_count": 23,
   "metadata": {
    "collapsed": false
   },
   "outputs": [
    {
     "data": {
      "text/plain": [
       "4.7877770320986608"
      ]
     },
     "execution_count": 23,
     "metadata": {},
     "output_type": "execute_result"
    }
   ],
   "source": [
    "elapse_time = df.game_clock.max()-df.game_clock.min()\n",
    "# feet per second\n",
    "dwight_fps = dist/elapse_time\n",
    "#convert to miles per hour\n",
    "dwight_mph = 0.681818*dwight_fps\n",
    "dwight_mph"
   ]
  },
  {
   "cell_type": "code",
   "execution_count": 24,
   "metadata": {
    "collapsed": false
   },
   "outputs": [
    {
     "data": {
      "text/plain": [
       "player_name\n",
       "Blake Griffin     3.026503\n",
       "Chris Paul        3.761719\n",
       "Corey Brewer      3.636763\n",
       "DeAndre Jordan    3.772842\n",
       "Dwight Howard     4.787777\n",
       "JJ Redick         4.718952\n",
       "Jason Terry       4.133988\n",
       "Josh Smith        3.825069\n",
       "Matt Barnes       3.646092\n",
       "Trevor Ariza      4.106184\n",
       "ball              7.842117\n",
       "dtype: float64"
      ]
     },
     "execution_count": 24,
     "metadata": {},
     "output_type": "execute_result"
    }
   ],
   "source": [
    "player_speed = (player_travel_dist/elapse_time)*0.681818\n",
    "player_speed"
   ]
  },
  {
   "cell_type": "markdown",
   "metadata": {},
   "source": [
    "## Distance Between Players"
   ]
  },
  {
   "cell_type": "code",
   "execution_count": 25,
   "metadata": {
    "collapsed": false
   },
   "outputs": [
    {
     "data": {
      "text/html": [
       "<div>\n",
       "<table border=\"1\" class=\"dataframe\">\n",
       "  <thead>\n",
       "    <tr style=\"text-align: right;\">\n",
       "      <th></th>\n",
       "      <th>x_loc</th>\n",
       "      <th>y_loc</th>\n",
       "    </tr>\n",
       "  </thead>\n",
       "  <tbody>\n",
       "    <tr>\n",
       "      <th>8</th>\n",
       "      <td>52.72143</td>\n",
       "      <td>28.74668</td>\n",
       "    </tr>\n",
       "    <tr>\n",
       "      <th>19</th>\n",
       "      <td>52.15728</td>\n",
       "      <td>28.74631</td>\n",
       "    </tr>\n",
       "    <tr>\n",
       "      <th>30</th>\n",
       "      <td>51.60918</td>\n",
       "      <td>28.74672</td>\n",
       "    </tr>\n",
       "    <tr>\n",
       "      <th>41</th>\n",
       "      <td>51.07417</td>\n",
       "      <td>28.74965</td>\n",
       "    </tr>\n",
       "    <tr>\n",
       "      <th>52</th>\n",
       "      <td>50.56203</td>\n",
       "      <td>28.75389</td>\n",
       "    </tr>\n",
       "  </tbody>\n",
       "</table>\n",
       "</div>"
      ],
      "text/plain": [
       "       x_loc     y_loc\n",
       "8   52.72143  28.74668\n",
       "19  52.15728  28.74631\n",
       "30  51.60918  28.74672\n",
       "41  51.07417  28.74965\n",
       "52  50.56203  28.75389"
      ]
     },
     "execution_count": 25,
     "metadata": {},
     "output_type": "execute_result"
    }
   ],
   "source": [
    "dwight_loc = df[df[\"player_name\"]==\"Dwight Howard\"][[\"x_loc\",\"y_loc\"]]\n",
    "dwight_loc.head()"
   ]
  },
  {
   "cell_type": "code",
   "execution_count": 26,
   "metadata": {
    "collapsed": false
   },
   "outputs": [],
   "source": [
    "other_players = df[df.player_name!=\"Dwight Howard\"].groupby(\"player_name\")[[\"x_loc\",\"y_loc\"]]\n",
    "#other_players.head()"
   ]
  },
  {
   "cell_type": "code",
   "execution_count": 27,
   "metadata": {
    "collapsed": true
   },
   "outputs": [],
   "source": [
    "from scipy.spatial.distance import euclidean\n",
    "\n",
    "def player_dist(player_a, player_b):\n",
    "    return [euclidean(player_a.iloc[i], player_b.iloc[i])\n",
    "            for i in range(len(player_a))]"
   ]
  },
  {
   "cell_type": "code",
   "execution_count": 28,
   "metadata": {
    "collapsed": false
   },
   "outputs": [],
   "source": [
    "dwight_dist = other_players.apply(player_dist,player_b=(dwight_loc))"
   ]
  },
  {
   "cell_type": "code",
   "execution_count": 29,
   "metadata": {
    "collapsed": false
   },
   "outputs": [
    {
     "data": {
      "text/plain": [
       "player_name\n",
       "Blake Griffin     [23.3193289855, 22.8954516485, 22.4893161389, ...\n",
       "Chris Paul        [20.8099805772, 20.3515392918, 19.8956322231, ...\n",
       "Corey Brewer      [33.830166591, 33.7166934605, 33.6082421474, 3...\n",
       "DeAndre Jordan    [28.0013793632, 27.5005130628, 27.0124611662, ...\n",
       "JJ Redick         [41.6869817461, 41.3452427714, 41.0113394706, ...\n",
       "Jason Terry       [18.4425672492, 18.301352741, 18.1536895504, 1...\n",
       "Josh Smith        [9.29682150504, 9.29912194221, 9.30512295821, ...\n",
       "Matt Barnes       [34.2925074222, 34.0805115467, 33.8798172359, ...\n",
       "Trevor Ariza      [41.1907391966, 40.9248296206, 40.618013901, 4...\n",
       "ball              [17.4902040552, 17.4384124084, 17.4506090961, ...\n",
       "dtype: object"
      ]
     },
     "execution_count": 29,
     "metadata": {},
     "output_type": "execute_result"
    }
   ],
   "source": [
    "dwight_dist"
   ]
  }
 ],
 "metadata": {
  "kernelspec": {
   "display_name": "Python 2",
   "language": "python",
   "name": "python2"
  },
  "language_info": {
   "codemirror_mode": {
    "name": "ipython",
    "version": 2
   },
   "file_extension": ".py",
   "mimetype": "text/x-python",
   "name": "python",
   "nbconvert_exporter": "python",
   "pygments_lexer": "ipython2",
   "version": "2.7.10"
  }
 },
 "nbformat": 4,
 "nbformat_minor": 0
}
